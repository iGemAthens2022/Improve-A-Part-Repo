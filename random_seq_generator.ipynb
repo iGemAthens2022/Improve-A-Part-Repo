{
 "cells": [
  {
   "cell_type": "code",
   "execution_count": 16,
   "id": "2983aed5",
   "metadata": {},
   "outputs": [],
   "source": [
    "import numpy as np\n",
    "import pandas as pd\n",
    "from Bio import SeqIO"
   ]
  },
  {
   "cell_type": "code",
   "execution_count": 17,
   "id": "0b555665",
   "metadata": {},
   "outputs": [],
   "source": [
    "part_034='AAAGAGGAGAAA' #mazi 2 prwta nucleotides spacer apo registry (AA sto telos)\n",
    "\n",
    "BASES = ('A', 'C', 'T', 'G')\n",
    "rbs_num=100\n",
    "P = (0.2, 0.2, 0.3, 0.3)\n",
    "spacer_arr=[]\n",
    "RBSs=[]\n",
    "\n",
    "def random_dna_sequence(length):\n",
    "    return ''.join(np.random.choice(BASES, p=P) for _ in range(length))\n",
    "\n",
    "for i in range(rbs_num):\n",
    "    spacer_arr.append(random_dna_sequence(6))\n",
    "    RBSs.append(part_034+spacer_arr[i])\n",
    "\n",
    "    \n"
   ]
  },
  {
   "cell_type": "code",
   "execution_count": 56,
   "id": "6e2b37bb",
   "metadata": {},
   "outputs": [
    {
     "name": "stdout",
     "output_type": "stream",
     "text": [
      "['TGTCTA', 'GATTGC', 'TTCAAT', 'GAACCT', 'TGCGGT', 'ACATCC', 'GCGTGT', 'GATGGC', 'GGCGGC', 'GGGAGT', 'TAGCAT', 'TATTCA', 'GTGAGC', 'GGGTGA', 'ACACTG', 'AATGAT', 'CGGTCC', 'CTACTT', 'TCAGTG', 'GTCCCT', 'TCTTTG', 'AGTTAG', 'CGGGCG', 'CTGTTG', 'CAGGGG', 'CGCCAG', 'TTGGTC', 'AGGTAG', 'ATGGGT', 'CTCTAT', 'CTTTCA', 'TCAACC', 'CGCGGG', 'AGTACA', 'CGATGT', 'TATGGA', 'TCGCCA', 'TTTTGA', 'GAATGG', 'GATTCT', 'GGATCA', 'GTCATG', 'GAGCAG', 'GCCTCA', 'ACGAGT', 'GGTGTT', 'ATAATA', 'AGTTTT', 'ATTTGT', 'CCGTAG', 'GACGGT', 'TCTCGT', 'ACGGTT', 'TCACGG', 'TTACAT', 'TCGTCA', 'TACCTC', 'GGGCGT', 'AACAGT', 'ATAGTT', 'TAGGTA', 'TCCTAT', 'CCGGGG', 'GCTTAG', 'TTTAGC', 'TCGAGG', 'TTTGGG', 'CACCGT', 'TGAGTC', 'TACTAC', 'GGGGTC', 'GCGGTT', 'GCCTTA', 'TCAGTA', 'AAGAGA', 'ATGAAC', 'GCCGTT', 'CCCGTG', 'AGGTAT', 'TTTGTT', 'TAGAGT', 'GACGTC', 'TCGTGT', 'GTTCAG', 'GGATTG', 'GTTTTG', 'TTTGGG', 'ACTGGC', 'CAGCGA', 'TTTTCT', 'CTAGAT', 'TGTCTG', 'TCGTGC', 'AGCTGC', 'TTATTA', 'TTTACG', 'CAAGTG', 'GGGGTT', 'CACGGG', 'GCGAAC']\n",
      "['AAAGAGGAGAAATGTCTA', 'AAAGAGGAGAAAGATTGC', 'AAAGAGGAGAAATTCAAT', 'AAAGAGGAGAAAGAACCT', 'AAAGAGGAGAAATGCGGT', 'AAAGAGGAGAAAACATCC', 'AAAGAGGAGAAAGCGTGT', 'AAAGAGGAGAAAGATGGC', 'AAAGAGGAGAAAGGCGGC', 'AAAGAGGAGAAAGGGAGT', 'AAAGAGGAGAAATAGCAT', 'AAAGAGGAGAAATATTCA', 'AAAGAGGAGAAAGTGAGC', 'AAAGAGGAGAAAGGGTGA', 'AAAGAGGAGAAAACACTG', 'AAAGAGGAGAAAAATGAT', 'AAAGAGGAGAAACGGTCC', 'AAAGAGGAGAAACTACTT', 'AAAGAGGAGAAATCAGTG', 'AAAGAGGAGAAAGTCCCT', 'AAAGAGGAGAAATCTTTG', 'AAAGAGGAGAAAAGTTAG', 'AAAGAGGAGAAACGGGCG', 'AAAGAGGAGAAACTGTTG', 'AAAGAGGAGAAACAGGGG', 'AAAGAGGAGAAACGCCAG', 'AAAGAGGAGAAATTGGTC', 'AAAGAGGAGAAAAGGTAG', 'AAAGAGGAGAAAATGGGT', 'AAAGAGGAGAAACTCTAT', 'AAAGAGGAGAAACTTTCA', 'AAAGAGGAGAAATCAACC', 'AAAGAGGAGAAACGCGGG', 'AAAGAGGAGAAAAGTACA', 'AAAGAGGAGAAACGATGT', 'AAAGAGGAGAAATATGGA', 'AAAGAGGAGAAATCGCCA', 'AAAGAGGAGAAATTTTGA', 'AAAGAGGAGAAAGAATGG', 'AAAGAGGAGAAAGATTCT', 'AAAGAGGAGAAAGGATCA', 'AAAGAGGAGAAAGTCATG', 'AAAGAGGAGAAAGAGCAG', 'AAAGAGGAGAAAGCCTCA', 'AAAGAGGAGAAAACGAGT', 'AAAGAGGAGAAAGGTGTT', 'AAAGAGGAGAAAATAATA', 'AAAGAGGAGAAAAGTTTT', 'AAAGAGGAGAAAATTTGT', 'AAAGAGGAGAAACCGTAG', 'AAAGAGGAGAAAGACGGT', 'AAAGAGGAGAAATCTCGT', 'AAAGAGGAGAAAACGGTT', 'AAAGAGGAGAAATCACGG', 'AAAGAGGAGAAATTACAT', 'AAAGAGGAGAAATCGTCA', 'AAAGAGGAGAAATACCTC', 'AAAGAGGAGAAAGGGCGT', 'AAAGAGGAGAAAAACAGT', 'AAAGAGGAGAAAATAGTT', 'AAAGAGGAGAAATAGGTA', 'AAAGAGGAGAAATCCTAT', 'AAAGAGGAGAAACCGGGG', 'AAAGAGGAGAAAGCTTAG', 'AAAGAGGAGAAATTTAGC', 'AAAGAGGAGAAATCGAGG', 'AAAGAGGAGAAATTTGGG', 'AAAGAGGAGAAACACCGT', 'AAAGAGGAGAAATGAGTC', 'AAAGAGGAGAAATACTAC', 'AAAGAGGAGAAAGGGGTC', 'AAAGAGGAGAAAGCGGTT', 'AAAGAGGAGAAAGCCTTA', 'AAAGAGGAGAAATCAGTA', 'AAAGAGGAGAAAAAGAGA', 'AAAGAGGAGAAAATGAAC', 'AAAGAGGAGAAAGCCGTT', 'AAAGAGGAGAAACCCGTG', 'AAAGAGGAGAAAAGGTAT', 'AAAGAGGAGAAATTTGTT', 'AAAGAGGAGAAATAGAGT', 'AAAGAGGAGAAAGACGTC', 'AAAGAGGAGAAATCGTGT', 'AAAGAGGAGAAAGTTCAG', 'AAAGAGGAGAAAGGATTG', 'AAAGAGGAGAAAGTTTTG', 'AAAGAGGAGAAATTTGGG', 'AAAGAGGAGAAAACTGGC', 'AAAGAGGAGAAACAGCGA', 'AAAGAGGAGAAATTTTCT', 'AAAGAGGAGAAACTAGAT', 'AAAGAGGAGAAATGTCTG', 'AAAGAGGAGAAATCGTGC', 'AAAGAGGAGAAAAGCTGC', 'AAAGAGGAGAAATTATTA', 'AAAGAGGAGAAATTTACG', 'AAAGAGGAGAAACAAGTG', 'AAAGAGGAGAAAGGGGTT', 'AAAGAGGAGAAACACGGG', 'AAAGAGGAGAAAGCGAAC', 'NaN', 'NaN', 'NaN', 'NaN', 'NaN', 'NaN', 'NaN', 'NaN', 'NaN', 'NaN', 'NaN', 'NaN', 'NaN', 'NaN', 'NaN', 'NaN', 'NaN', 'NaN', 'NaN', 'NaN', 'NaN', 'NaN', 'NaN', 'NaN', 'NaN', 'NaN', 'NaN', 'NaN', 'NaN', 'NaN', 'NaN', 'NaN', 'NaN', 'NaN', 'NaN', 'NaN', 'NaN', 'NaN', 'NaN', 'NaN', 'NaN', 'NaN', 'NaN', 'NaN', 'NaN', 'NaN', 'NaN', 'NaN', 'NaN', 'NaN', 'NaN', 'NaN', 'NaN', 'NaN', 'NaN', 'NaN', 'NaN', 'NaN', 'NaN', 'NaN', 'NaN', 'NaN', 'NaN', 'NaN', 'NaN', 'NaN', 'NaN', 'NaN', 'NaN', 'NaN', 'NaN', 'NaN', 'NaN', 'NaN', 'NaN', 'NaN', 'NaN', 'NaN', 'NaN', 'NaN', 'NaN', 'NaN', 'NaN', 'NaN', 'NaN', 'NaN', 'NaN', 'NaN', 'NaN', 'NaN', 'NaN', 'NaN', 'NaN', 'NaN', 'NaN', 'NaN', 'NaN', 'NaN', 'NaN', 'NaN', 'NaN', 'NaN', 'NaN', 'NaN', 'NaN', 'NaN', 'NaN', 'NaN', 'NaN', 'NaN']\n"
     ]
    }
   ],
   "source": [
    "print(spacer_arr)\n",
    "print(RBSs)"
   ]
  },
  {
   "cell_type": "code",
   "execution_count": 69,
   "id": "f708c089",
   "metadata": {},
   "outputs": [
    {
     "name": "stdout",
     "output_type": "stream",
     "text": [
      "0\n"
     ]
    }
   ],
   "source": [
    "string='AAAGAGGAGAAATGTCTA'\n",
    "total=len(string)\n",
    "A_per=string.count('A')\n",
    "T_per=string.count('T')\n",
    "G_per=string.count('G')\n",
    "C_per=string.count('C')\n",
    "\n",
    "AA=string.count('')\n",
    "print(AA)\n",
    "\n"
   ]
  },
  {
   "cell_type": "code",
   "execution_count": 70,
   "id": "8df0696e",
   "metadata": {},
   "outputs": [],
   "source": [
    "df = pd.read_excel (r'C:\\Users\\manos\\OneDrive\\Υπολογιστής\\synthetic_dataset.xlsx')\n",
    "rows_bef,cols=np.shape(df)\n",
    "\n"
   ]
  },
  {
   "cell_type": "code",
   "execution_count": 71,
   "id": "f3f17cb7",
   "metadata": {},
   "outputs": [
    {
     "name": "stdout",
     "output_type": "stream",
     "text": [
      "                     RBS       A       U       C       G       G+U       G+C  \\\n",
      "0       AAACAGGAGAGGAAAG  0.5625     0.0  0.0625   0.375       0.5       0.5   \n",
      "1       AAACAGGAGATTGGTC   0.375  0.1875   0.125  0.3125  0.833333       0.5   \n",
      "2       AAGAAGGAGAGACCTA     0.5  0.0625   0.125  0.3125  0.333333       0.5   \n",
      "3       AAGCAGGAGACTTGTT  0.3125    0.25   0.125  0.3125  0.833333  0.333333   \n",
      "4       AAGCAGGAGAGGCACC   0.375     0.0    0.25   0.375  0.333333  0.833333   \n",
      "...                  ...     ...     ...     ...     ...       ...       ...   \n",
      "1078  AAAGAGGAGAAATTTACG     NaN     NaN     NaN     NaN       NaN       NaN   \n",
      "1079  AAAGAGGAGAAACAAGTG     NaN     NaN     NaN     NaN       NaN       NaN   \n",
      "1080  AAAGAGGAGAAAGGGGTT     NaN     NaN     NaN     NaN       NaN       NaN   \n",
      "1081  AAAGAGGAGAAACACGGG     NaN     NaN     NaN     NaN       NaN       NaN   \n",
      "1082  AAAGAGGAGAAAGCGAAC     NaN     NaN     NaN     NaN       NaN       NaN   \n",
      "\n",
      "           G+A       A+C       C+U  ... GC+CG AC+CA CU+UC AU+UA   AA   UU  \\\n",
      "0          1.0       0.5       0.0  ...   0.0   0.0   0.0   0.0  2.0  0.0   \n",
      "1     0.333333  0.166667  0.666667  ...   0.0   0.0   1.0   0.0  0.0  1.0   \n",
      "2          0.5  0.666667       0.5  ...   0.0   1.0   1.0   1.0  0.0  0.0   \n",
      "3     0.166667  0.166667  0.833333  ...   0.0   0.0   1.0   0.0  0.0  2.0   \n",
      "4          0.5  0.666667       0.5  ...   1.0   2.0   0.0   0.0  0.0  0.0   \n",
      "...        ...       ...       ...  ...   ...   ...   ...   ...  ...  ...   \n",
      "1078       NaN       NaN       NaN  ...   NaN   NaN   NaN   NaN  NaN  NaN   \n",
      "1079       NaN       NaN       NaN  ...   NaN   NaN   NaN   NaN  NaN  NaN   \n",
      "1080       NaN       NaN       NaN  ...   NaN   NaN   NaN   NaN  NaN  NaN   \n",
      "1081       NaN       NaN       NaN  ...   NaN   NaN   NaN   NaN  NaN  NaN   \n",
      "1082       NaN       NaN       NaN  ...   NaN   NaN   NaN   NaN  NaN  NaN   \n",
      "\n",
      "       GG   CC Average bbp Conservation  \n",
      "0     1.0  0.0    0.018988          5.0  \n",
      "1     1.0  0.0      0.4517          5.0  \n",
      "2     0.0  1.0    0.420075          6.0  \n",
      "3     0.0  0.0    0.771537          5.0  \n",
      "4     1.0  1.0     0.37425          5.0  \n",
      "...   ...  ...         ...          ...  \n",
      "1078  NaN  NaN         NaN          NaN  \n",
      "1079  NaN  NaN         NaN          NaN  \n",
      "1080  NaN  NaN         NaN          NaN  \n",
      "1081  NaN  NaN         NaN          NaN  \n",
      "1082  NaN  NaN         NaN          NaN  \n",
      "\n",
      "[1083 rows x 23 columns]\n"
     ]
    }
   ],
   "source": [
    "for i in range(rbs_num):\n",
    "    temp=[]\n",
    "    temp.append(RBSs[i])\n",
    "    for j in range(cols-1):\n",
    "        temp.append('NaN')\n",
    "    rows_up,cols=np.shape(df)\n",
    "    df.loc[rows_up]=temp\n",
    "print(df)\n",
    "\n",
    "\n"
   ]
  }
 ],
 "metadata": {
  "kernelspec": {
   "display_name": "Python 3 (ipykernel)",
   "language": "python",
   "name": "python3"
  },
  "language_info": {
   "codemirror_mode": {
    "name": "ipython",
    "version": 3
   },
   "file_extension": ".py",
   "mimetype": "text/x-python",
   "name": "python",
   "nbconvert_exporter": "python",
   "pygments_lexer": "ipython3",
   "version": "3.9.12"
  }
 },
 "nbformat": 4,
 "nbformat_minor": 5
}
